{
  "nbformat": 4,
  "nbformat_minor": 0,
  "metadata": {
    "colab": {
      "provenance": [],
      "authorship_tag": "ABX9TyPSFAO09lF5ICxWuUhf/Og2",
      "include_colab_link": true
    },
    "kernelspec": {
      "name": "python3",
      "display_name": "Python 3"
    },
    "language_info": {
      "name": "python"
    }
  },
  "cells": [
    {
      "cell_type": "markdown",
      "metadata": {
        "id": "view-in-github",
        "colab_type": "text"
      },
      "source": [
        "<a href=\"https://colab.research.google.com/github/emmacionca/data_curation_and_analysis/blob/main/eac4697_data_curation_and_analysis.ipynb\" target=\"_parent\"><img src=\"https://colab.research.google.com/assets/colab-badge.svg\" alt=\"Open In Colab\"/></a>"
      ]
    },
    {
      "cell_type": "code",
      "source": [
        "try:\n",
        "    import pandas as pd\n",
        "    import requests\n",
        "    from bs4 import BeautifulSoup\n",
        "    print (\"APIs already installed and imported\")\n",
        "except:\n",
        "    !pip install pandas\n",
        "    import pandas as pd\n",
        "    !pip install beautifulsoup4\n",
        "    from bs4 import BeautifulSoup\n",
        "    import requests\n",
        "    print (\"APIs not found. Installed them and imported\")\n",
        "\n"
      ],
      "metadata": {
        "colab": {
          "base_uri": "https://localhost:8080/"
        },
        "id": "vPxmU-_JVCfm",
        "outputId": "c629674f-1333-412a-851e-ec5ace4b09d4"
      },
      "execution_count": 21,
      "outputs": [
        {
          "output_type": "stream",
          "name": "stdout",
          "text": [
            "APIs already installed and imported\n"
          ]
        }
      ]
    },
    {
      "cell_type": "markdown",
      "source": [
        "Check if APIs are already installed. If not, install and import them."
      ],
      "metadata": {
        "id": "f3vPoTGdVUUu"
      }
    },
    {
      "cell_type": "code",
      "source": [
        "webpage = requests.get(\"https://en.wikipedia.org/wiki/List_of_countries_and_dependencies_by_population\")\n",
        "print (\"Opened webpage\")\n",
        "\n",
        "soup = BeautifulSoup(webpage.content, \"html.parser\")\n",
        "print (\"Parsed webpage\")"
      ],
      "metadata": {
        "colab": {
          "base_uri": "https://localhost:8080/"
        },
        "id": "P3fAQsgSVcm2",
        "outputId": "c1b094af-1fba-4b08-e3c4-ef9cb9217ac3"
      },
      "execution_count": 77,
      "outputs": [
        {
          "output_type": "stream",
          "name": "stdout",
          "text": [
            "Opened webpage\n",
            "Parsed webpage\n"
          ]
        }
      ]
    },
    {
      "cell_type": "markdown",
      "source": [
        "Open webpage — store in variable.\n",
        "\n",
        "Initialize BeautifulSoup object to read and parse webpage."
      ],
      "metadata": {
        "id": "Q7KbjZuca2pJ"
      }
    },
    {
      "cell_type": "code",
      "source": [
        "# Checking if the page has a table with the class 'wikitable', 'sortable' bc for some reason this one works\n",
        "print('Classes of each table:')\n",
        "for table in soup.find_all('table'):\n",
        "    print(table.get('class'))"
      ],
      "metadata": {
        "colab": {
          "base_uri": "https://localhost:8080/"
        },
        "id": "mfNtsBmCm7qU",
        "outputId": "ff92a1ff-7978-42ed-9101-796505817f33"
      },
      "execution_count": 78,
      "outputs": [
        {
          "output_type": "stream",
          "name": "stdout",
          "text": [
            "Classes of each table:\n",
            "['wikitable', 'sortable']\n",
            "['nowraplinks', 'hlist', 'mw-collapsible', 'autocollapse', 'navbox-inner']\n",
            "['nowraplinks', 'mw-collapsible', 'autocollapse', 'navbox-inner']\n"
          ]
        }
      ]
    },
    {
      "cell_type": "code",
      "source": [
        "# Creating list with all tables\n",
        "all_tables = soup.find_all('table')\n",
        "\n",
        "#  Looking for the table with the classes 'wikitable' and 'sortable'\n",
        "table = soup.find('table', class_='wikitable sortable')\n"
      ],
      "metadata": {
        "id": "DN4H8Fignsvk"
      },
      "execution_count": 80,
      "outputs": []
    },
    {
      "cell_type": "code",
      "source": [
        "messy_data = []\n",
        "\n",
        "for row in table:\n",
        "    line = row.text\n",
        "    messy_data.append(line)\n",
        "print(messy_data)"
      ],
      "metadata": {
        "colab": {
          "base_uri": "https://localhost:8080/"
        },
        "id": "ITz688dhavul",
        "outputId": "be405ee5-b7f8-46ee-9a30-833a2b8103f8"
      },
      "execution_count": 81,
      "outputs": [
        {
          "output_type": "stream",
          "name": "stdout",
          "text": [
            "['\\n', '\\n\\nCountry / Dependency\\nPopulation\\n% ofworld\\nDate\\nSource (official or fromthe United Nations)\\n\\n\\n\\n–\\n\\nWorld\\n\\n8,063,588,000\\n100%\\n4 Oct 2023\\n\\nUN projection[3]\\n\\n\\n\\n1\\n\\n\\xa0China\\n\\n1,411,750,000\\n17.5%\\n31 Dec 2022\\n\\nOfficial estimate[4]\\n[b]\\n\\n\\n2\\n\\n\\xa0India\\n\\n1,392,329,000\\n17.3%\\n1 Mar 2023\\n\\nOfficial projection[5]\\n[c]\\n\\n\\n3\\n\\n\\xa0United States\\n\\n335,461,000\\n4.2%\\n4 Oct 2023\\n\\nNational population clock[7]\\n[d]\\n\\n\\n4\\n\\n\\xa0Indonesia\\n\\n278,696,200\\n3.5%\\n1 Jul 2023\\n\\nNational annual projection[8]\\n\\n\\n\\n5\\n\\n\\xa0Pakistan\\n\\n241,499,431\\n3.0%\\n1 Mar 2023\\n\\n2023 census result[9]\\n[e]\\n\\n\\n6\\n\\n\\xa0Nigeria\\n\\n216,783,400\\n2.7%\\n21 Mar 2022\\n\\nOfficial projection[10]\\n\\n\\n\\n7\\n\\n\\xa0Brazil\\n\\n203,062,512\\n2.5%\\n1 Aug 2022\\n\\n2022 census result[11]\\n\\n\\n\\n8\\n\\n\\xa0Bangladesh\\n\\n169,828,911\\n2.1%\\n14 Jun 2022\\n\\n2022 census result[12]\\n\\n\\n\\n9\\n\\n\\xa0Russia\\n\\n146,424,729\\n1.8%\\n1 Jan 2023\\n\\nOfficial estimate[13]\\n[f]\\n\\n\\n10\\n\\n\\xa0Mexico\\n\\n129,202,482\\n1.6%\\n30 Jun 2023\\n\\nNational quarterly estimate[14]\\n\\n\\n\\n11\\n\\n\\xa0Japan\\n\\n124,450,000\\n1.5%\\n1 Sep 2023\\n\\nOfficial estimate[15]\\n\\n\\n\\n12\\n\\n\\xa0Philippines\\n\\n110,716,000\\n1.4%\\n4 Oct 2023\\n\\nNational population clock[16]\\n\\n\\n\\n13\\n\\n\\xa0Ethiopia\\n\\n107,334,000\\n1.3%\\n1 Jul 2023\\n\\nNational annual projection[17]\\n\\n\\n\\n14\\n\\n\\xa0Egypt\\n\\n105,384,000\\n1.3%\\n4 Oct 2023\\n\\nNational population clock[18]\\n\\n\\n\\n15\\n\\n\\xa0Vietnam\\n\\n100,000,000\\n1.2%\\nApr 2023\\n\\nOfficial estimate[19]\\n\\n\\n\\n16\\n\\n\\xa0DR Congo\\n\\n95,370,000\\n1.2%\\n1 Jul 2019\\n\\nOfficial figure[20]\\n\\n\\n\\n17\\n\\n\\xa0Iran\\n\\n85,296,900\\n1.1%\\n4 Oct 2023\\n\\nNational population clock[21]\\n\\n\\n\\n18\\n\\n\\xa0Turkey\\n\\n85,279,553\\n1.1%\\n31 Dec 2022\\n\\nOfficial estimate[22]\\n\\n\\n\\n19\\n\\n\\xa0Germany\\n\\n84,482,267\\n1.0%\\n30 Jun 2023\\n\\nNational quarterly estimate[23]\\n\\n\\n\\n20\\n\\n\\xa0Thailand\\n\\n68,263,022\\n0.8%\\n1 Jul 2021\\n\\nOfficial estimate[24]\\n\\n\\n\\n21\\n\\n\\xa0France\\n\\n68,184,000\\n0.8%\\n1 Sep 2023\\n\\nMonthly national estimate[25]\\n[g]\\n\\n\\n22\\n\\n\\xa0United Kingdom\\n\\n67,026,292\\n0.8%\\n30 Jun 2021\\n\\nOfficial estimate[26]\\n[h]\\n\\n\\n23\\n\\n\\xa0Tanzania\\n\\n61,741,120\\n0.8%\\n23 Aug 2022\\n\\n2022 census result[27]\\n[i]\\n\\n\\n24\\n\\n\\xa0South Africa\\n\\n60,604,992\\n0.8%\\n1 Jul 2022\\n\\nOfficial estimate[28]\\n\\n\\n\\n25\\n\\n\\xa0Italy\\n\\n58,780,965\\n0.7%\\n31 Jul 2023\\n\\nMonthly national estimate[29]\\n\\n\\n\\n26\\n\\n\\xa0Myanmar\\n\\n55,770,232\\n0.7%\\n1 Jul 2022\\n\\nNational annual projection[30]\\n\\n\\n\\n27\\n\\n\\xa0Colombia\\n\\n52,215,503\\n0.6%\\n30 Jun 2023\\n\\nOfficial projection[31]\\n\\n\\n\\n28\\n\\n\\xa0Kenya\\n\\n51,526,000\\n0.6%\\n1 Jan 2023\\n\\nOfficial projection[32]\\n\\n\\n\\n29\\n\\n\\xa0South Korea\\n\\n51,439,038\\n0.6%\\n31 Dec 2022\\n\\nOfficial estimate[33]\\n\\n\\n\\n30\\n\\n\\xa0Spain\\n\\n48,345,223\\n0.6%\\n1 Jul 2023\\n\\nOfficial estimate[34]\\n\\n\\n\\n31\\n\\n\\xa0Argentina\\n\\n46,654,581\\n0.6%\\n1 Jul 2023\\n\\nNational annual projection[35]\\n\\n\\n\\n32\\n\\n\\xa0Algeria\\n\\n45,400,000\\n0.6%\\n1 Jan 2022\\n\\nOfficial estimate[36]\\n\\n\\n\\n33\\n\\n\\xa0Iraq\\n\\n43,324,000\\n0.5%\\n1 Jul 2023\\n\\nOfficial estimate[37]\\n\\n\\n\\n34\\n\\n\\xa0Uganda\\n\\n42,885,900\\n0.5%\\n1 Jul 2021\\n\\nOfficial projection[38]\\n\\n\\n\\n35\\n\\n\\xa0Sudan\\n\\n41,984,500\\n0.5%\\n1 Jul 2018\\n\\nOfficial projection[39]\\n\\n\\n\\n36\\n\\n\\xa0Ukraine\\n\\n41,130,432\\n0.5%\\n1 Feb 2022\\n\\nNational monthly estimate[40]\\n[j]\\n\\n\\n37\\n\\n\\xa0Canada\\n\\n40,400,600\\n0.5%\\n4 Oct 2023\\n\\nNational population clock[41]\\n\\n\\n\\n38\\n\\n\\xa0Poland\\n\\n37,691,000\\n0.5%\\n31 Jul 2023\\n\\nNational monthly estimate[42]\\n\\n\\n\\n39\\n\\n\\xa0Morocco\\n\\n37,112,500\\n0.5%\\n4 Oct 2023\\n\\nNational population clock[43]\\n[k]\\n\\n\\n40\\n\\n\\xa0Uzbekistan\\n\\n36,372,276\\n0.5%\\n1 Jul 2023\\n\\nNational quarterly estimate[44]\\n\\n\\n\\n41\\n\\n\\xa0Afghanistan\\n\\n34,262,840\\n0.4%\\n1 Jan 2023\\n\\nOfficial estimate[45]\\n\\n\\n\\n42\\n\\n\\xa0Peru\\n\\n33,396,698\\n0.4%\\n1 Jul 2022\\n\\nNational annual projection[46]\\n\\n\\n\\n43\\n\\n\\xa0Malaysia\\n\\n33,379,500\\n0.41%\\n30 Jun 2023\\n\\nNational quarterly estimate[47]\\n\\n\\n\\n44\\n\\n\\xa0Angola\\n\\n33,086,278\\n0.4%\\n30 Jun 2022\\n\\nNational annual projection[48]\\n\\n\\n\\n45\\n\\n\\xa0Mozambique\\n\\n32,419,747\\n0.4%\\n1 Jul 2022\\n\\nNational annual projection[49]\\n\\n\\n\\n46\\n\\n\\xa0Saudi Arabia\\n\\n32,175,224\\n0.4%\\n10 May 2022\\n\\n2022 census result[50]\\n\\n\\n\\n47\\n\\n\\xa0Yemen\\n\\n31,888,698\\n0.4%\\n1 Jul 2022\\n\\nOfficial estimate[51]\\n\\n\\n\\n48\\n\\n\\xa0Ghana\\n\\n30,832,019\\n0.4%\\n27 Jun 2021\\n\\n2021 census result[52]\\n\\n\\n\\n49\\n\\n\\xa0Ivory Coast\\n\\n29,389,150\\n0.4%\\n14 Dec 2021\\n\\n2021 census result[53]\\n\\n\\n\\n50\\n\\n\\xa0\\xa0\\xa0Nepal\\n\\n29,164,578\\n0.4%\\n25 Nov 2021\\n\\n2021 census result[54]\\n\\n\\n\\n51\\n\\n\\xa0Venezuela\\n\\n28,302,000\\n0.4%\\n30 Jun 2019\\n\\nOfficial projection[55]\\n\\n\\n\\n52\\n\\n\\xa0Cameroon\\n\\n28,088,845\\n0.3%\\n1 Jul 2023\\n\\nNational annual projection[56]\\n\\n\\n\\n53\\n\\n\\xa0Madagascar\\n\\n26,923,353\\n0.3%\\n1 Jul 2021\\n\\nNational annual projection[57]\\n\\n\\n\\n54\\n\\n\\xa0Australia\\n\\n26,779,200\\n0.3%\\n4 Oct 2023\\n\\nNational population clock[58]\\n[l]\\n\\n\\n55\\n\\n\\xa0North Korea\\n\\n25,660,000\\n0.3%\\n1 Jul 2021\\n\\nNational annual projection[59]\\n\\n\\n\\n56\\n\\n\\xa0Niger\\n\\n25,369,415\\n0.3%\\n1 Jul 2023\\n\\nNational annual projection[60]\\n\\n\\n\\n–\\n\\n\\xa0Taiwan\\n\\n23,399,654\\n0.3%\\n31 Aug 2023\\n\\nOfficial estimate[61]\\n[m]\\n\\n\\n57\\n\\n\\xa0Syria\\n\\n22,923,000\\n0.3%\\n1 Jul 2021\\n\\nOfficial estimate[62]\\n\\n\\n\\n58\\n\\n\\xa0Mali\\n\\n22,395,489\\n0.3%\\n15 Jun 2022\\n\\n2022 census result[63]\\n\\n\\n\\n59\\n\\n\\xa0Burkina Faso\\n\\n22,185,654\\n0.3%\\n1 Jul 2022\\n\\nNational projection[64]\\n\\n\\n\\n60\\n\\n\\xa0Sri Lanka\\n\\n22,037,000\\n0.3%\\n1 Jul 2023\\n\\nOfficial estimate[65]\\n\\n\\n\\n61\\n\\n\\xa0Malawi\\n\\n21,507,723\\n0.3%\\n1 Jul 2022\\n\\nNational annual projection[66]\\n\\n\\n\\n62\\n\\n\\xa0Chile\\n\\n19,960,889\\n0.2%\\n30 Jun 2023\\n\\nNational annual projection[67]\\n\\n\\n\\n63\\n\\n\\xa0Kazakhstan\\n\\n19,944,726\\n0.2%\\n1 Sep 2023\\n\\nNational quarterly estimate[68]\\n\\n\\n\\n64\\n\\n\\xa0Zambia\\n\\n19,610,769\\n0.2%\\n14 Sep 2022\\n\\n2022 census result[69]\\n\\n\\n\\n65\\n\\n\\xa0Romania\\n\\n19,051,562\\n0.2%\\n1 Jan 2023\\n\\nOfficial estimate[70]\\n\\n\\n\\n66\\n\\n\\xa0Ecuador\\n\\n18,379,900\\n0.2%\\n4 Oct 2023\\n\\nNational population clock[71]\\n\\n\\n\\n67\\n\\n\\xa0Senegal\\n\\n18,275,743\\n0.2%\\n1 Jul 2023\\n\\nNational annual projection[72]\\n\\n\\n\\n68\\n\\n\\xa0Somalia\\n\\n18,143,379\\n0.2%\\n1 Jul 2023\\n\\nUN projection[3]\\n[n]\\n\\n\\n69\\n\\n\\xa0Netherlands\\n\\n17,932,200\\n0.2%\\n4 Oct 2023\\n\\nNational population clock[73]\\n[o]\\n\\n\\n70\\n\\n\\xa0Guatemala\\n\\n17,602,431\\n0.2%\\n1 Jul 2023\\n\\nNational annual projection[74]\\n\\n\\n\\n71\\n\\n\\xa0Chad\\n\\n17,414,717\\n0.2%\\n1 Jul 2022\\n\\nNational annual projection[75]\\n\\n\\n\\n72\\n\\n\\xa0Cambodia\\n\\n17,091,464\\n0.2%\\n1 Jul 2023\\n\\nOfficial projection[76]\\n\\n\\n\\n73\\n\\n\\xa0Zimbabwe\\n\\n15,178,979\\n0.2%\\n20 Apr 2022\\n\\n2022 census result[77]\\n\\n\\n\\n74\\n\\n\\xa0Guinea\\n\\n13,261,638\\n0.2%\\n1 Jul 2022\\n\\nNational annual projection[78]\\n\\n\\n\\n75\\n\\n\\xa0South Sudan\\n\\n13,249,924\\n0.2%\\n1 Jul 2020\\n\\nNational annual projection[79]\\n\\n\\n\\n76\\n\\n\\xa0Rwanda\\n\\n13,246,394\\n0.2%\\n15 Aug 2022\\n\\n2022 census result[80]\\n\\n\\n77\\n\\n\\xa0Burundi\\n\\n12,837,740\\n0.2%\\n1 Jul 2022\\n\\nNational annual projection[81]\\n\\n\\n\\n78\\n\\n\\xa0Benin\\n\\n12,606,998\\n0.2%\\n1 Jul 2023\\n\\nNational annual projection[82]\\n\\n\\n\\n79\\n\\n\\xa0Bolivia\\n\\n12,006,031\\n0.1%\\n1 Jul 2022\\n\\nNational annual projection[83]\\n\\n\\n\\n80\\n\\n\\xa0Tunisia\\n\\n11,850,232\\n0.1%\\n1 Jan 2023\\n\\nNational estimate[84]\\n\\n\\n\\n81\\n\\n\\xa0Papua New Guinea\\n\\n11,781,559\\n0.1%\\n1 Jul 2021\\n\\nNational estimate[85]\\n\\n\\n\\n82\\n\\n\\xa0Belgium\\n\\n11,772,639\\n0.1%\\n1 Aug 2023\\n\\nOfficial estimate[86]\\n\\n\\n\\n83\\n\\n\\xa0Haiti\\n\\n11,743,017\\n0.1%\\n1 Jul 2020\\n\\nNational annual projection[87]\\n\\n\\n\\n84\\n\\n\\xa0Jordan\\n\\n11,482,400\\n0.1%\\n4 Oct 2023\\n\\nNational population clock[88]\\n\\n\\n\\n85\\n\\n\\xa0Cuba\\n\\n11,089,511\\n0.1%\\n31 Dec 2022\\n\\nOfficial estimate[89]\\n\\n\\n\\n86\\n\\n\\xa0Czech Republic\\n\\n10,873,553\\n0.1%\\n30 Jun 2023\\n\\nOfficial estimate[90]\\n\\n\\n\\n87\\n\\n\\xa0Sweden\\n\\n10,548,336\\n0.1%\\n1 Aug 2023\\n\\nMonthly national estimate[91]\\n\\n\\n\\n88\\n\\n\\xa0Dominican Republic\\n\\n10,535,535\\n0.1%\\n1 Jul 2021\\n\\nNational annual projection[92]\\n\\n\\n\\n89\\n\\n\\xa0Greece\\n\\n10,482,487\\n0.1%\\n22 Oct 2021\\n\\n2021 census result[93]\\n\\n\\n\\n90\\n\\n\\xa0Portugal\\n\\n10,467,366\\n0.1%\\n31 Dec 2022\\n\\n2022 estimate[94]\\n\\n\\n\\n91\\n\\n\\xa0Azerbaijan\\n\\n10,151,517\\n0.1%\\n1 Jul 2023\\n\\nMonthly national estimate[95]\\n\\n\\n\\n92\\n\\n\\xa0Tajikistan\\n\\n10,077,600\\n0.1%\\n1 Jan 2023\\n\\nOfficial estimate[96]\\n\\n\\n\\n93\\n\\n\\xa0Israel\\n\\n9,795,000\\n0.1%\\n31 Jul 2023\\n\\nNational monthly estimate[97]\\n[p]\\n\\n\\n94\\n\\n\\xa0Honduras\\n\\n9,745,149\\n0.1%\\n1 Jul 2023\\n\\nNational annual projection[98]\\n\\n\\n\\n95\\n\\n\\xa0Hungary\\n\\n9,597,085\\n0.1%\\n1 Jan 2023\\n\\nOfficial estimate[99]\\n\\n\\n\\n96\\n\\n\\xa0United Arab Emirates\\n\\n9,282,410\\n0.1%\\n31 Dec 2020\\n\\nOfficial estimate[100]\\n\\n\\n\\n97\\n\\n\\xa0Belarus\\n\\n9,200,617\\n0.1%\\n1 Jan 2023\\n\\nOfficial estimate[101]\\n\\n\\n\\n98\\n\\n\\xa0Austria\\n\\n9,129,652\\n0.1%\\n1 Jul 2023\\n\\nNational quarterly estimate[102]\\n\\n\\n\\n99\\n\\n\\xa0\\xa0Switzerland\\n\\n8,902,308\\n0.1%\\n30 Jun 2023\\n\\nNational quarterly estimate[103]\\n\\n\\n\\n100\\n\\n\\xa0Sierra Leone\\n\\n8,494,260\\n0.1%\\n1 Jul 2022\\n\\nNational annual projection[104]\\n\\n\\n\\n101\\n\\n\\xa0Togo\\n\\n8,095,498\\n0.1%\\n8 Nov 2022\\n\\n2022 census result[105]\\n\\n\\n\\n–\\n\\n\\xa0Hong Kong (China)\\n\\n7,498,100\\n0.09%\\n\\n30 Jun 2023\\n\\nNational estimate[106]\\n\\n\\n\\n102\\n\\n\\xa0Laos\\n\\n7,443,000\\n0.09%\\n1 Jul 2022\\n\\nNational annual projection[107]\\n\\n\\n\\n103\\n\\n\\xa0Kyrgyzstan\\n\\n7,100,000\\n0.09%\\n1 Mar 2023\\n\\nMonthly national estimate[108]\\n\\n\\n\\n104\\n\\n\\xa0Turkmenistan\\n\\n7,057,841\\n0.09%\\n17 Dec 2022\\n\\n2022 census result[109]\\n\\n\\n\\n105\\n\\n\\xa0Libya\\n\\n6,931,061\\n0.09%\\n1 Jan 2020\\n\\nOfficial estimate[110]\\n\\n\\n\\n106\\n\\n\\xa0El Salvador\\n\\n6,884,888\\n0.09%\\n1 Jul 2022\\n\\nNational annual projection[111]\\n\\n\\n\\n107\\n\\n\\xa0Nicaragua\\n\\n6,733,763\\n0.08%\\n30 Jun 2022\\n\\nOfficial estimate[112]\\n\\n\\n\\n108\\n\\n\\xa0Serbia\\n\\n6,647,003\\n0.08%\\n31 Oct 2022\\n\\n2022 census result[113]\\n[q]\\n\\n\\n109\\n\\n\\xa0Bulgaria\\n\\n6,447,710\\n0.08%\\n31 Dec 2022\\n\\nOfficial annual estimate[114]\\n\\n\\n\\n110\\n\\n\\xa0Paraguay\\n\\n6,109,644\\n0.08%\\n10 Nov 2022\\n\\nPreliminary census result[115]\\n\\n\\n\\n111\\n\\n\\xa0Congo\\n\\n6,106,869\\n0.08%\\n1 Jul 2023\\n\\nUN projection[3]\\n\\n\\n\\n112\\n\\n\\xa0Denmark\\n\\n5,944,145\\n0.07%\\n1 Jul 2023\\n\\nNational quarterly estimate[116]\\n[r]\\n\\n\\n113\\n\\n\\xa0Singapore\\n\\n5,917,600\\n0.07%\\n30 Jun 2023\\n\\nOfficial estimate[117]\\n\\n\\n\\n114\\n\\n\\xa0Central African Republic\\n\\n5,633,412\\n0.07%\\n1 Jul 2020\\n\\nNational annual projection[118]\\n\\n\\n\\n115\\n\\n\\xa0Finland\\n\\n5,557,272\\n0.07%\\n31 Aug 2023\\n\\nMonthly national estimate[119]\\n[s]\\n\\n\\n116\\n\\n\\xa0Norway\\n\\n5,514,042\\n0.07%\\n30 Jun 2023\\n\\nNational quarterly estimate[120]\\n[t]\\n\\n\\n117\\n\\n\\xa0Lebanon\\n\\n5,490,000\\n0.07%\\n1 Jul 2021\\n\\nOfficial estimate[121]\\n\\n\\n\\n118\\n\\n\\xa0Palestine\\n\\n5,483,450\\n0.07%\\n1 Jan 2023\\n\\nNational annual projection[122]\\n[u]\\n\\n\\n119\\n\\n\\xa0Slovakia\\n\\n5,426,352\\n0.07%\\n30 Jun 2023\\n\\nNational quarterly estimate[123]\\n\\n\\n\\n120\\n\\n\\xa0Ireland\\n\\n5,281,600\\n0.07%\\n1 Apr 2023\\n\\nNational estimate[124]\\n\\n\\n\\n121\\n\\n\\xa0Costa Rica\\n\\n5,262,225\\n0.07%\\n30 Jun 2023\\n\\nNational annual projection[125]\\n\\n\\n\\n122\\n\\n\\xa0New Zealand\\n\\n5,223,100\\n0.06%\\n30 Jun 2023\\n\\nNational quarterly estimate[126]\\n[v]\\n\\n\\n123\\n\\n\\xa0Oman\\n\\n5,113,071\\n0.06%\\n31 Aug 2023\\n\\nMonthly national estimate[127]\\n\\n\\n\\n124\\n\\n\\xa0Kuwait\\n\\n4,670,713\\n0.06%\\n31 Dec 2020\\n\\nOfficial estimate[128]\\n\\n\\n\\n125\\n\\n\\xa0Liberia\\n\\n4,661,010\\n0.06%\\n1 Jul 2021\\n\\nNational annual projection[129]\\n\\n\\n\\n126\\n\\n\\xa0Mauritania\\n\\n4,475,683\\n0.06%\\n1 Jul 2023\\n\\nNational annual projection[130]\\n\\n\\n\\n127\\n\\n\\xa0Panama\\n\\n4,337,406\\n0.05%\\n1 Jul 2021\\n\\nNational annual projection[131]\\n\\n\\n\\n128\\n\\n\\xa0Croatia\\n\\n3,855,641\\n0.05%\\n1 Jul 2022\\n\\nOfficial estimate[132]\\n\\n\\n\\n129\\n\\n\\xa0Eritrea\\n\\n3,748,902\\n0.05%\\n1 Jul 2023\\n\\nUN projection[3]\\n\\n\\n\\n130\\n\\n\\xa0Georgia\\n\\n3,736,400\\n0.05%\\n1 Jan 2023\\n\\nOfficial estimate[133]\\n[w]\\n\\n\\n131\\n\\n\\xa0Uruguay\\n\\n3,566,550\\n0.04%\\n30 Jun 2023\\n\\nNational annual projection[134]\\n\\n\\n\\n132\\n\\n\\xa0Mongolia\\n\\n3,457,548\\n0.04%\\n31 Dec 2022\\n\\nNational annual projection[135]\\n\\n\\n\\n133\\n\\n\\xa0Bosnia and Herzegovina\\n\\n3,277,082\\n0.04%\\n1 Jul 2022\\n\\nOfficial estimate[136][137]\\n\\n\\n\\n–\\n\\n\\xa0Puerto Rico (US)\\n\\n3,221,789\\n0.04%\\n1 Jul 2022\\n\\nAnnual projection[138]\\n\\n\\n\\n134\\n\\n\\xa0Armenia\\n\\n2,981,200\\n0.04%\\n1 Jan 2023\\n\\nNational quarterly estimate[139]\\n\\n\\n\\n135\\n\\n\\xa0Lithuania\\n\\n2,866,965\\n0.04%\\n1 Sep 2023\\n\\nMonthly national estimate[140]\\n\\n\\n\\n136\\n\\n\\xa0Jamaica\\n\\n2,825,544\\n0.04%\\n1 Jul 2019\\n\\nNational projection[141]\\n\\n\\n\\n137\\n\\n\\xa0Albania\\n\\n2,761,785\\n0.03%\\n1 Jan 2023\\n\\nOfficial estimate[142]\\n\\n\\n\\n138\\n\\n\\xa0Qatar\\n\\n2,656,032\\n0.03%\\n30 Jun 2023\\n\\nMonthly national estimate[143]\\n\\n\\n\\n139\\n\\n\\xa0Namibia\\n\\n2,641,857\\n0.03%\\n1 Jul 2023\\n\\nNational annual projection[144]\\n\\n\\n\\n140\\n\\n\\xa0Moldova\\n\\n2,512,758\\n0.03%\\n1 Jan 2023\\n\\nOfficial estimate[145]\\n[x]\\n\\n\\n141\\n\\n\\xa0Gambia\\n\\n2,417,471\\n0.03%\\n1 Jul 2022\\n\\nNational projection[146]\\n\\n\\n\\n142\\n\\n\\xa0Botswana\\n\\n2,410,338\\n0.03%\\n1 Jul 2021\\n\\nNational annual projection[147]\\n\\n\\n\\n143\\n\\n\\xa0Lesotho\\n\\n2,306,000\\n0.03%\\n1 Jul 2023\\n\\nOfficial projection[148]\\n\\n\\n\\n144\\n\\n\\xa0Gabon\\n\\n2,233,272\\n0.03%\\n1 Jul 2021\\n\\nNational annual projection[149]\\n\\n\\n\\n145\\n\\n\\xa0Slovenia\\n\\n2,117,674\\n0.03%\\n1 Apr 2023\\n\\nNational quarterly estimate[150]\\n\\n\\n\\n146\\n\\n\\xa0Latvia\\n\\n1,882,000\\n0.02%\\n1 Aug 2023\\n\\nMonthly national estimate[151]\\n\\n\\n\\n147\\n\\n\\xa0North Macedonia\\n\\n1,832,696\\n0.02%\\n1 Nov 2021\\n\\n2021 census result[152]\\n\\n\\n\\n148\\n\\n\\xa0Guinea-Bissau\\n\\n1,781,308\\n0.02%\\n1 Jul 2023\\n\\nNational annual projection[153]\\n\\n\\n\\n–\\n\\n\\xa0Kosovo\\n\\n1,773,971\\n0.02%\\n31 Dec 2021\\n\\nOfficial estimate[154]\\n\\n\\n\\n149\\n\\n\\xa0Bahrain\\n\\n1,577,059\\n0.02%\\n1 Jul 2023\\n\\nOfficial estimate[155]\\n\\n\\n\\n150\\n\\n\\xa0Equatorial Guinea\\n\\n1,558,160\\n0.02%\\n1 Jul 2022\\n\\nOfficial estimate[156]\\n\\n\\n\\n151\\n\\n\\xa0Estonia\\n\\n1,365,884\\n0.02%\\n1 Jan 2023\\n\\nOfficial estimate[157]\\n\\n\\n\\n152\\n\\n\\xa0Trinidad and Tobago\\n\\n1,365,805\\n0.02%\\n30 Jun 2022\\n\\nOfficial estimate[158]\\n\\n\\n\\n153\\n\\n\\xa0East Timor\\n\\n1,354,662\\n0.02%\\n1 Jul 2023\\n\\nNational annual projection[159]\\n\\n\\n\\n154\\n\\n\\xa0Mauritius\\n\\n1,261,041\\n0.02%\\n30 Jun 2023\\n\\nNational estimate[160]\\n\\n\\n\\n155\\n\\n\\xa0Eswatini\\n\\n1,223,362\\n0.02%\\n1 Jul 2023\\n\\nOfficial projection[161]\\n\\n\\n\\n156\\n\\n\\xa0Djibouti\\n\\n1,001,454\\n0.01%\\n1 Jul 2022\\n\\nNational projection [162]\\n\\n\\n\\n157\\n\\n\\xa0Cyprus\\n\\n918,100\\n0.01%\\n1 Oct 2021\\n\\n2021 census result[163]\\n[y]\\n\\n\\n158\\n\\n\\xa0Fiji\\n\\n893,468\\n0.01%\\n1 Jul 2021\\n\\nNational annual projection[164]\\n\\n\\n\\n159\\n\\n\\xa0Bhutan\\n\\n770,276\\n0.010%\\n2023\\n\\nNational annual projection[165]\\n\\n\\n\\n160\\n\\n\\xa0Comoros\\n\\n758,316\\n0.009%\\n15 Dec 2017\\n\\n2017 census result[166]\\n\\n\\n\\n161\\n\\n\\xa0Guyana\\n\\n743,699\\n0.009%\\n1 Jul 2019\\n\\nOfficial estimate[167]\\n\\n\\n\\n162\\n\\n\\xa0Solomon Islands\\n\\n734,887\\n0.009%\\n1 Jul 2023\\n\\nNational annual projection[168]\\n\\n\\n\\n–\\n\\n\\xa0Macau (China)\\n\\n678,800\\n0.008%\\n\\n30 Jun 2023\\n\\nNational quarterly estimate[169]\\n\\n\\n\\n163\\n\\n\\xa0Luxembourg\\n\\n660,809\\n0.008%\\n1 Jan 2023\\n\\nOfficial estimate[170]\\n\\n\\n\\n164\\n\\n\\xa0Montenegro\\n\\n616,695\\n0.008%\\n1 Jan 2023\\n\\nNational annual estimate[171]\\n\\n\\n\\n165\\n\\n\\xa0Suriname\\n\\n616,500\\n0.008%\\n1 Jul 2021\\n\\nOfficial estimate[172]\\n\\n\\n\\n–\\n\\n Western Sahara\\n\\n587,259\\n0.007%\\n1 Jul 2023\\n\\nUN projection[3]\\n[z]\\n\\n\\n166\\n\\n\\xa0Malta\\n\\n519,562\\n0.006%\\n21 Nov 2021\\n\\n2021 census result[173]\\n\\n\\n\\n167\\n\\n\\xa0Cape Verde\\n\\n491,233\\n0.006%\\n16 Jun 2021\\n\\n2021 census result[174]\\n\\n\\n\\n168\\n\\n\\xa0Brunei\\n\\n445,400\\n0.006%\\n1 Jul 2022\\n\\nOfficial estimate[175]\\n\\n\\n\\n169\\n\\n\\xa0Belize\\n\\n441,471\\n0.005%\\n1 Jul 2022\\n\\nOfficial estimate[176]\\n\\n\\n\\n170\\n\\n\\xa0Bahamas\\n\\n397,360\\n0.005%\\n1 Jul 2022\\n\\nNational annual projection| [177]\\n\\n\\n\\n171\\n\\n\\xa0Iceland\\n\\n394,200\\n0.005%\\n1 Jul 2023\\n\\nNational quarterly estimate[178]\\n\\n\\n\\n–\\n\\n\\xa0Northern Cyprus\\n\\n382,836\\n0.005%\\n31 Dec 2020\\n\\nOfficial estimate[179]\\n[aa]\\n\\n\\n172\\n\\n\\xa0Maldives\\n\\n382,751\\n0.005%\\n13 Sep 2022\\n\\n2022 census result[180]\\n\\n\\n\\n–\\n\\n\\xa0Transnistria\\n\\n360,938\\n0.004%\\n31 Dec 2022\\n\\nOfficial estimate[181]\\n[ab]\\n\\n\\n173\\n\\n\\xa0Vanuatu\\n\\n301,295\\n0.004%\\n1 Jul 2021\\n\\nNational annual projection[182]\\n\\n\\n\\n–\\n\\n\\xa0French Polynesia (France)\\n\\n279,890\\n0.003%\\n1 Jul 2021\\n\\nNational annual projection[182]\\n\\n\\n\\n–\\n\\n\\xa0New Caledonia (France)\\n\\n268,510\\n0.003%\\n1 Jan 2023\\n\\nNational annual projection[183]\\n\\n\\n\\n174\\n\\n\\xa0Barbados\\n\\n267,800\\n0.003%\\n31 Dec 2022\\n\\nOfficial estimate| [184]\\n\\n\\n\\n–\\n\\n\\xa0Abkhazia\\n\\n245,424\\n0.003%\\n1 Jan 2020\\n\\nOfficial estimate[185]\\n[ac]\\n\\n\\n175\\n\\n\\xa0São Tomé and Príncipe\\n\\n214,610\\n0.003%\\n1 Jul 2021\\n\\nNational annual projection[186]\\n\\n\\n\\n176\\n\\n\\xa0Samoa\\n\\n205,557\\n0.003%\\n6 Nov 2021\\n\\nCensus 2021[187]\\n\\n\\n\\n177\\n\\n\\xa0Saint Lucia\\n\\n178,696\\n0.002%\\n1 Jul 2018\\n\\nOfficial estimate[188]\\n\\n\\n\\n–\\n\\n\\xa0Guam (US)\\n\\n153,836\\n0.002%\\n1 Apr 2020\\n\\n2020 census result[189]\\n\\n\\n\\n–\\n\\n\\xa0Curacao (Netherlands)\\n\\n148,925\\n0.002%\\n1 Jan 2023\\n\\nOfficial estimate[190]\\n\\n\\n\\n–\\n\\n\\xa0Artsakh\\n\\n148,900\\n0.002%\\n1 Oct 2019\\n\\nOfficial estimate[191]\\n[ad]\\n\\n\\n178\\n\\n\\xa0Kiribati\\n\\n120,740\\n0.001%\\n1 Jul 2021\\n\\nNational annual projection[182]\\n\\n\\n\\n179\\n\\n\\xa0Grenada\\n\\n112,579\\n0.001%\\n1 Jul 2019\\n\\nOfficial estimate[192]\\n\\n\\n\\n180\\n\\n\\xa0Saint Vincent and the Grenadines\\n\\n110,872\\n0.001%\\n1 Jul 2022\\n\\nOfficial estimate[193]\\n\\n\\n\\n–\\n\\n\\xa0Aruba (Netherlands)\\n\\n106,739\\n0.001%\\n30 Sep 2022\\n\\nNational quarterly estimate[194]\\n\\n\\n\\n181\\n\\n\\xa0Micronesia\\n\\n105,754\\n0.001%\\n1 Jul 2021\\n\\nNational annual projection[182]\\n\\n\\n\\n–\\n\\n\\xa0Jersey (UK)\\n\\n103,267\\n0.001%\\n21 Mar 2021\\n\\n2021 census result[195]\\n\\n\\n\\n182\\n\\n\\xa0Antigua and Barbuda\\n\\n100,772\\n0.001%\\n1 Jan 2022\\n\\nNational annual estimate[196]\\n\\n\\n\\n183\\n\\n\\xa0Seychelles\\n\\n100,447\\n0.001%\\n22 Apr 2022\\n\\n2022 Census[197]\\n\\n\\n\\n184\\n\\n\\xa0Tonga\\n\\n100,179\\n0.001%\\n1 Jan 2022\\n\\nNational annual estimate[198]\\n\\n\\n\\n–\\n\\n\\xa0US Virgin Islands (US)\\n\\n87,146\\n0.001%\\n1 Apr 2020\\n\\n2020 census result[199]\\n\\n\\n\\n–\\n\\n\\xa0Isle of Man (UK)\\n\\n84,069\\n0.001%\\n30 May 2021\\n\\n2021 census result[200]\\n\\n\\n\\n185\\n\\n\\xa0Andorra\\n\\n83,523\\n0.001%\\n30 Jun 2023\\n\\nOfficial estimate[201]\\n\\n\\n\\n–\\n\\n\\xa0Cayman Islands (UK)\\n\\n71,105\\n0.0009%\\n30 Sep 2020\\n\\n2021 Census[202]\\n\\n\\n\\n186\\n\\n\\xa0Dominica\\n\\n67,408\\n0.0008%\\n31 Dec 2017\\n\\nOfficial estimate[203]\\n\\n\\n\\n–\\n\\n\\xa0Guernsey (UK)\\n\\n64,234\\n0.0008%\\n30 Sep 2022\\n\\nNational quarterly estimate[204]\\n\\n\\n\\n–\\n\\n\\xa0Bermuda (UK)\\n\\n64,055\\n0.0008%\\n1 Jul 2021\\n\\nNational annual projection[205]\\n\\n\\n\\n–\\n\\n\\xa0Greenland (Denmark)\\n\\n56,865\\n0.0007%\\n1 Jul 2023\\n\\nNational quarterly estimate[206]\\n\\n\\n\\n–\\n\\n\\xa0South Ossetia\\n\\n56,520\\n0.0007%\\n31 Dec 2021\\n\\nOfficial estimate[207]\\n[ae]\\n\\n\\n–\\n\\n\\xa0Faroe Islands (Denmark)\\n\\n54,738\\n0.0007%\\n1 Aug 2023\\n\\nMonthly national estimate[208]\\n\\n\\n\\n–\\n\\n\\xa0American Samoa (US)\\n\\n49,710\\n0.0006%\\n1 Apr 2020\\n\\n2020 census result[209]\\n\\n\\n\\n–\\n\\n\\xa0Northern Mariana Islands (US)\\n\\n47,329\\n0.0006%\\n1 Apr 2020\\n\\n2020 census result[210]\\n\\n\\n\\n187\\n\\n\\xa0Saint Kitts and Nevis\\n\\n47,195\\n0.0006%\\n15 May 2011\\n\\n2011 census result[211]\\n\\n\\n\\n–\\n\\n\\xa0Turks and Caicos Islands (UK)\\n\\n46,131\\n0.0006%\\n1 Jul 2021\\n\\nOfficial estimate[212]\\n\\n\\n\\n–\\n\\n\\xa0Sint Maarten (Netherlands)\\n\\n42,938\\n0.0005%\\n1 Jan 2023\\n\\nOfficial estimate[213]\\n\\n\\n\\n188\\n\\n\\xa0Marshall Islands\\n\\n42,418\\n0.0005%\\n30 Sep 2021\\n\\n2021 Census[214]\\n\\n\\n\\n189\\n\\n\\xa0Liechtenstein\\n\\n39,680\\n0.0005%\\n31 Dec 2022\\n\\nNational estimate[215]\\n\\n\\n\\n190\\n\\n\\xa0Monaco\\n\\n39,050\\n0.0005%\\n31 Dec 2022\\n\\nOfficial estimate[216]\\n\\n\\n\\n–\\n\\n\\xa0Gibraltar (UK)\\n\\n34,003\\n0.0004%\\n1 Jul 2016\\n\\nOfficial figure[217]\\n\\n\\n\\n191\\n\\n\\xa0San Marino\\n\\n33,881\\n0.0004%\\n31 Jul 2023\\n\\nMonthly national estimate[218]\\n\\n\\n\\n–\\n\\n Saint Martin (France)\\n\\n32,358\\n0.0004%\\n1 Jan 2020\\n\\nOfficial estimate[219]\\n\\n\\n\\n–\\n\\n\\xa0British Virgin Islands (UK)\\n\\n31,538\\n0.0004%\\n1 Jul 2023\\n\\nUN projection[3]\\n\\n\\n\\n–\\n\\n\\xa0Åland (Finland)\\n\\n30,569\\n0.0004%\\n31 Aug 2023\\n\\nMonthly national estimate[119]\\n\\n\\n\\n192\\n\\n\\xa0Palau\\n\\n16,733\\n0.0002%\\n1 Jul 2021\\n\\n2021 Census[220]\\n\\n\\n\\n–\\n\\n\\xa0Anguilla (UK)\\n\\n15,701\\n0.0002%\\n31 Dec 2021\\n\\nOfficial estimate[221]\\n\\n\\n\\n–\\n\\n\\xa0Cook Islands\\n\\n15,040\\n0.0002%\\n1 Jul 2021\\n\\n2021 Census[222]\\n\\n\\n\\n193\\n\\n\\xa0Nauru\\n\\n11,832\\n0.0001%\\n1 Jul 2021\\n\\nNational annual projection[182]\\n\\n\\n\\n–\\n\\n\\xa0Wallis and Futuna (France)\\n\\n11,369\\n0.0001%\\n1 Jan 2021\\n\\nNational annual projection[182]\\n\\n\\n\\n194\\n\\n\\xa0Tuvalu\\n\\n10,679\\n0.0001%\\n1 Jul 2021\\n\\nNational annual projection[182]\\n\\n\\n\\n–\\n\\n\\xa0Saint Barthélemy (France)\\n\\n10,585\\n0.0001%\\n1 Jan 2020\\n\\nOfficial estimate[219]\\n\\n\\n\\n–\\n\\n\\xa0Saint Pierre and Miquelon (France)\\n\\n6,092\\n0%\\n1 Jan 2020\\n\\nOfficial estimate[219]\\n\\n\\n\\n–\\n\\n\\xa0Saint Helena, Ascension and Tristan da Cunha (UK)\\n\\n5,651\\n0%\\n1 Jul 2021\\n\\n2021 Census[223][224][225]\\n\\n\\n\\n–\\n\\n\\xa0Montserrat (UK)\\n\\n4,433\\n0%\\n1 Jul 2022\\n\\nOfficial figure[226]\\n\\n\\n\\n–\\n\\n\\xa0Falkland Islands (UK)\\n\\n3,662\\n0%\\n10 Oct 2021\\n\\n2021 census result[227]\\n\\n\\n\\n–\\n\\n\\xa0Norfolk Island (Australia)\\n\\n2,188\\n0%\\n1 Jan 2021\\n\\n2021 Census[228]\\n\\n\\n\\n–\\n\\n\\xa0Christmas Island (Australia)\\n\\n1,692\\n0%\\n1 Jan 2021\\n\\n2021 Census [229]\\n\\n\\n\\n–\\n\\n\\xa0Tokelau (NZ)\\n\\n1,647\\n0%\\n1 Jan 2019\\n\\n2019 Census [230]\\n\\n\\n\\n–\\n\\n\\xa0Niue\\n\\n1,549\\n0%\\n1 Jul 2021\\n\\nNational annual projection[182]\\n\\n\\n\\n195\\n\\n\\xa0\\xa0Vatican City\\n\\n764\\n0%\\n26 Jun 2023\\n\\nOfficial figure[231]\\n[af]\\n\\n\\n–\\n\\n\\xa0Cocos (Keeling) Islands (Australia)\\n\\n593\\n0%\\n30 Jun 2020\\n\\n2021 Census[232]\\n\\n\\n\\n–\\n\\n\\xa0Pitcairn Islands (UK)\\n\\n47\\n0%\\n1 Jul 2021\\n\\nOfficial estimate[233]\\n\\n']\n"
          ]
        }
      ]
    },
    {
      "cell_type": "markdown",
      "source": [
        "Find all tables in the webpage and append data to an empty list to store it."
      ],
      "metadata": {
        "id": "gMMYfz3FbRky"
      }
    },
    {
      "cell_type": "code",
      "source": [
        "column_names = ['Country / Dependency', 'Population', '% ofworld', 'Date', 'Source (official or fromthe United Nations)']\n",
        "#column_names = ['No.', 'Athlete', 'Nation', 'Sport', 'Years', 'Games', 'Gender', 'Gold,' 'Silver', 'Bronze', 'Total']\n",
        "cleaned_data = []\n",
        "\n",
        "for l in messy_data:\n",
        "    entries = l.split(\"\\n\")\n",
        "    row = {} # empty dictionary for every row\n",
        "    for entry in entries:\n",
        "        for column_name in column_names:\n",
        "            if column_name in entry:\n",
        "                entry = entry.replace(column_name,\"\")\n",
        "                row[column_name] = entry\n",
        "                break # stops the inner loop here because we already find a match\n",
        "    cleaned_data.append(row)\n",
        "\n",
        "# Sanity check - let's print the first 5 rows\n",
        "print(cleaned_data[:5])"
      ],
      "metadata": {
        "colab": {
          "base_uri": "https://localhost:8080/"
        },
        "id": "G4WQFPAkbtZz",
        "outputId": "04b6de8b-1bb1-4de4-988a-9795d4d17b1c"
      },
      "execution_count": 82,
      "outputs": [
        {
          "output_type": "stream",
          "name": "stdout",
          "text": [
            "[{}, {'Country / Dependency': '', 'Population': '', '% ofworld': '', 'Date': '', 'Source (official or fromthe United Nations)': ''}]\n"
          ]
        }
      ]
    },
    {
      "cell_type": "code",
      "source": [
        "cleaned_data = pd.DataFrame(cleaned_data)\n",
        "\n",
        "# Print a few elements in the dataframe\n",
        "cleaned_data"
      ],
      "metadata": {
        "colab": {
          "base_uri": "https://localhost:8080/",
          "height": 112
        },
        "id": "Fyf_l55BkULh",
        "outputId": "11e339a1-c603-4edb-dc71-8053ea10e8e8"
      },
      "execution_count": 83,
      "outputs": [
        {
          "output_type": "execute_result",
          "data": {
            "text/plain": [
              "  Country / Dependency Population % ofworld Date  \\\n",
              "0                  NaN        NaN       NaN  NaN   \n",
              "1                                                  \n",
              "\n",
              "  Source (official or fromthe United Nations)  \n",
              "0                                         NaN  \n",
              "1                                              "
            ],
            "text/html": [
              "\n",
              "  <div id=\"df-7c3a9ef8-19f3-46b5-b3a0-bfba66c39aaa\" class=\"colab-df-container\">\n",
              "    <div>\n",
              "<style scoped>\n",
              "    .dataframe tbody tr th:only-of-type {\n",
              "        vertical-align: middle;\n",
              "    }\n",
              "\n",
              "    .dataframe tbody tr th {\n",
              "        vertical-align: top;\n",
              "    }\n",
              "\n",
              "    .dataframe thead th {\n",
              "        text-align: right;\n",
              "    }\n",
              "</style>\n",
              "<table border=\"1\" class=\"dataframe\">\n",
              "  <thead>\n",
              "    <tr style=\"text-align: right;\">\n",
              "      <th></th>\n",
              "      <th>Country / Dependency</th>\n",
              "      <th>Population</th>\n",
              "      <th>% ofworld</th>\n",
              "      <th>Date</th>\n",
              "      <th>Source (official or fromthe United Nations)</th>\n",
              "    </tr>\n",
              "  </thead>\n",
              "  <tbody>\n",
              "    <tr>\n",
              "      <th>0</th>\n",
              "      <td>NaN</td>\n",
              "      <td>NaN</td>\n",
              "      <td>NaN</td>\n",
              "      <td>NaN</td>\n",
              "      <td>NaN</td>\n",
              "    </tr>\n",
              "    <tr>\n",
              "      <th>1</th>\n",
              "      <td></td>\n",
              "      <td></td>\n",
              "      <td></td>\n",
              "      <td></td>\n",
              "      <td></td>\n",
              "    </tr>\n",
              "  </tbody>\n",
              "</table>\n",
              "</div>\n",
              "    <div class=\"colab-df-buttons\">\n",
              "\n",
              "  <div class=\"colab-df-container\">\n",
              "    <button class=\"colab-df-convert\" onclick=\"convertToInteractive('df-7c3a9ef8-19f3-46b5-b3a0-bfba66c39aaa')\"\n",
              "            title=\"Convert this dataframe to an interactive table.\"\n",
              "            style=\"display:none;\">\n",
              "\n",
              "  <svg xmlns=\"http://www.w3.org/2000/svg\" height=\"24px\" viewBox=\"0 -960 960 960\">\n",
              "    <path d=\"M120-120v-720h720v720H120Zm60-500h600v-160H180v160Zm220 220h160v-160H400v160Zm0 220h160v-160H400v160ZM180-400h160v-160H180v160Zm440 0h160v-160H620v160ZM180-180h160v-160H180v160Zm440 0h160v-160H620v160Z\"/>\n",
              "  </svg>\n",
              "    </button>\n",
              "\n",
              "  <style>\n",
              "    .colab-df-container {\n",
              "      display:flex;\n",
              "      gap: 12px;\n",
              "    }\n",
              "\n",
              "    .colab-df-convert {\n",
              "      background-color: #E8F0FE;\n",
              "      border: none;\n",
              "      border-radius: 50%;\n",
              "      cursor: pointer;\n",
              "      display: none;\n",
              "      fill: #1967D2;\n",
              "      height: 32px;\n",
              "      padding: 0 0 0 0;\n",
              "      width: 32px;\n",
              "    }\n",
              "\n",
              "    .colab-df-convert:hover {\n",
              "      background-color: #E2EBFA;\n",
              "      box-shadow: 0px 1px 2px rgba(60, 64, 67, 0.3), 0px 1px 3px 1px rgba(60, 64, 67, 0.15);\n",
              "      fill: #174EA6;\n",
              "    }\n",
              "\n",
              "    .colab-df-buttons div {\n",
              "      margin-bottom: 4px;\n",
              "    }\n",
              "\n",
              "    [theme=dark] .colab-df-convert {\n",
              "      background-color: #3B4455;\n",
              "      fill: #D2E3FC;\n",
              "    }\n",
              "\n",
              "    [theme=dark] .colab-df-convert:hover {\n",
              "      background-color: #434B5C;\n",
              "      box-shadow: 0px 1px 3px 1px rgba(0, 0, 0, 0.15);\n",
              "      filter: drop-shadow(0px 1px 2px rgba(0, 0, 0, 0.3));\n",
              "      fill: #FFFFFF;\n",
              "    }\n",
              "  </style>\n",
              "\n",
              "    <script>\n",
              "      const buttonEl =\n",
              "        document.querySelector('#df-7c3a9ef8-19f3-46b5-b3a0-bfba66c39aaa button.colab-df-convert');\n",
              "      buttonEl.style.display =\n",
              "        google.colab.kernel.accessAllowed ? 'block' : 'none';\n",
              "\n",
              "      async function convertToInteractive(key) {\n",
              "        const element = document.querySelector('#df-7c3a9ef8-19f3-46b5-b3a0-bfba66c39aaa');\n",
              "        const dataTable =\n",
              "          await google.colab.kernel.invokeFunction('convertToInteractive',\n",
              "                                                    [key], {});\n",
              "        if (!dataTable) return;\n",
              "\n",
              "        const docLinkHtml = 'Like what you see? Visit the ' +\n",
              "          '<a target=\"_blank\" href=https://colab.research.google.com/notebooks/data_table.ipynb>data table notebook</a>'\n",
              "          + ' to learn more about interactive tables.';\n",
              "        element.innerHTML = '';\n",
              "        dataTable['output_type'] = 'display_data';\n",
              "        await google.colab.output.renderOutput(dataTable, element);\n",
              "        const docLink = document.createElement('div');\n",
              "        docLink.innerHTML = docLinkHtml;\n",
              "        element.appendChild(docLink);\n",
              "      }\n",
              "    </script>\n",
              "  </div>\n",
              "\n",
              "\n",
              "<div id=\"df-33f1e4b3-ff91-4f3e-90df-f32354bb6d68\">\n",
              "  <button class=\"colab-df-quickchart\" onclick=\"quickchart('df-33f1e4b3-ff91-4f3e-90df-f32354bb6d68')\"\n",
              "            title=\"Suggest charts.\"\n",
              "            style=\"display:none;\">\n",
              "\n",
              "<svg xmlns=\"http://www.w3.org/2000/svg\" height=\"24px\"viewBox=\"0 0 24 24\"\n",
              "     width=\"24px\">\n",
              "    <g>\n",
              "        <path d=\"M19 3H5c-1.1 0-2 .9-2 2v14c0 1.1.9 2 2 2h14c1.1 0 2-.9 2-2V5c0-1.1-.9-2-2-2zM9 17H7v-7h2v7zm4 0h-2V7h2v10zm4 0h-2v-4h2v4z\"/>\n",
              "    </g>\n",
              "</svg>\n",
              "  </button>\n",
              "\n",
              "<style>\n",
              "  .colab-df-quickchart {\n",
              "      --bg-color: #E8F0FE;\n",
              "      --fill-color: #1967D2;\n",
              "      --hover-bg-color: #E2EBFA;\n",
              "      --hover-fill-color: #174EA6;\n",
              "      --disabled-fill-color: #AAA;\n",
              "      --disabled-bg-color: #DDD;\n",
              "  }\n",
              "\n",
              "  [theme=dark] .colab-df-quickchart {\n",
              "      --bg-color: #3B4455;\n",
              "      --fill-color: #D2E3FC;\n",
              "      --hover-bg-color: #434B5C;\n",
              "      --hover-fill-color: #FFFFFF;\n",
              "      --disabled-bg-color: #3B4455;\n",
              "      --disabled-fill-color: #666;\n",
              "  }\n",
              "\n",
              "  .colab-df-quickchart {\n",
              "    background-color: var(--bg-color);\n",
              "    border: none;\n",
              "    border-radius: 50%;\n",
              "    cursor: pointer;\n",
              "    display: none;\n",
              "    fill: var(--fill-color);\n",
              "    height: 32px;\n",
              "    padding: 0;\n",
              "    width: 32px;\n",
              "  }\n",
              "\n",
              "  .colab-df-quickchart:hover {\n",
              "    background-color: var(--hover-bg-color);\n",
              "    box-shadow: 0 1px 2px rgba(60, 64, 67, 0.3), 0 1px 3px 1px rgba(60, 64, 67, 0.15);\n",
              "    fill: var(--button-hover-fill-color);\n",
              "  }\n",
              "\n",
              "  .colab-df-quickchart-complete:disabled,\n",
              "  .colab-df-quickchart-complete:disabled:hover {\n",
              "    background-color: var(--disabled-bg-color);\n",
              "    fill: var(--disabled-fill-color);\n",
              "    box-shadow: none;\n",
              "  }\n",
              "\n",
              "  .colab-df-spinner {\n",
              "    border: 2px solid var(--fill-color);\n",
              "    border-color: transparent;\n",
              "    border-bottom-color: var(--fill-color);\n",
              "    animation:\n",
              "      spin 1s steps(1) infinite;\n",
              "  }\n",
              "\n",
              "  @keyframes spin {\n",
              "    0% {\n",
              "      border-color: transparent;\n",
              "      border-bottom-color: var(--fill-color);\n",
              "      border-left-color: var(--fill-color);\n",
              "    }\n",
              "    20% {\n",
              "      border-color: transparent;\n",
              "      border-left-color: var(--fill-color);\n",
              "      border-top-color: var(--fill-color);\n",
              "    }\n",
              "    30% {\n",
              "      border-color: transparent;\n",
              "      border-left-color: var(--fill-color);\n",
              "      border-top-color: var(--fill-color);\n",
              "      border-right-color: var(--fill-color);\n",
              "    }\n",
              "    40% {\n",
              "      border-color: transparent;\n",
              "      border-right-color: var(--fill-color);\n",
              "      border-top-color: var(--fill-color);\n",
              "    }\n",
              "    60% {\n",
              "      border-color: transparent;\n",
              "      border-right-color: var(--fill-color);\n",
              "    }\n",
              "    80% {\n",
              "      border-color: transparent;\n",
              "      border-right-color: var(--fill-color);\n",
              "      border-bottom-color: var(--fill-color);\n",
              "    }\n",
              "    90% {\n",
              "      border-color: transparent;\n",
              "      border-bottom-color: var(--fill-color);\n",
              "    }\n",
              "  }\n",
              "</style>\n",
              "\n",
              "  <script>\n",
              "    async function quickchart(key) {\n",
              "      const quickchartButtonEl =\n",
              "        document.querySelector('#' + key + ' button');\n",
              "      quickchartButtonEl.disabled = true;  // To prevent multiple clicks.\n",
              "      quickchartButtonEl.classList.add('colab-df-spinner');\n",
              "      try {\n",
              "        const charts = await google.colab.kernel.invokeFunction(\n",
              "            'suggestCharts', [key], {});\n",
              "      } catch (error) {\n",
              "        console.error('Error during call to suggestCharts:', error);\n",
              "      }\n",
              "      quickchartButtonEl.classList.remove('colab-df-spinner');\n",
              "      quickchartButtonEl.classList.add('colab-df-quickchart-complete');\n",
              "    }\n",
              "    (() => {\n",
              "      let quickchartButtonEl =\n",
              "        document.querySelector('#df-33f1e4b3-ff91-4f3e-90df-f32354bb6d68 button');\n",
              "      quickchartButtonEl.style.display =\n",
              "        google.colab.kernel.accessAllowed ? 'block' : 'none';\n",
              "    })();\n",
              "  </script>\n",
              "</div>\n",
              "    </div>\n",
              "  </div>\n"
            ]
          },
          "metadata": {},
          "execution_count": 83
        }
      ]
    },
    {
      "cell_type": "code",
      "source": [
        "cleaned_data.to_csv(\"Sovereign_states_and_dependencies_by_population.csv\")"
      ],
      "metadata": {
        "id": "BuicKOtmyqQP"
      },
      "execution_count": 85,
      "outputs": []
    },
    {
      "cell_type": "markdown",
      "source": [
        "From here the CSV file will be used to create a data visualization."
      ],
      "metadata": {
        "id": "43VcoLB2zOmg"
      }
    }
  ]
}